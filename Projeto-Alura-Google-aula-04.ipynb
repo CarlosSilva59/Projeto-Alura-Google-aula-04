{
  "nbformat": 4,
  "nbformat_minor": 0,
  "metadata": {
    "colab": {
      "provenance": [],
      "authorship_tag": "ABX9TyNa/fORGIcNMnN8U3Sf3rJF",
      "include_colab_link": true
    },
    "kernelspec": {
      "name": "python3",
      "display_name": "Python 3"
    },
    "language_info": {
      "name": "python"
    }
  },
  "cells": [
    {
      "cell_type": "markdown",
      "metadata": {
        "id": "view-in-github",
        "colab_type": "text"
      },
      "source": [
        "<a href=\"https://colab.research.google.com/github/CarlosSilva59/Projeto-Alura-Google-aula-04/blob/main/Projeto-Alura-Google-aula-04.ipynb\" target=\"_parent\"><img src=\"https://colab.research.google.com/assets/colab-badge.svg\" alt=\"Open In Colab\"/></a>"
      ]
    },
    {
      "cell_type": "markdown",
      "source": [
        "Código em desenvolvimento"
      ],
      "metadata": {
        "id": "yuZu9njMmThj"
      }
    },
    {
      "cell_type": "code",
      "execution_count": null,
      "metadata": {
        "id": "Cv8tHvF5f9sB"
      },
      "outputs": [],
      "source": [
        "import streamlit as st\n",
        "import pandas as pd\n",
        "from google.cloud import storage\n",
        "from io import BytesIO\n",
        "import base64\n",
        "\n",
        "def salvar_imagem_no_cloud_storage(imagem, tipo_doacao, quantidade, bloco_armazenamento):\n",
        "    \"\"\"\n",
        "    Salva a imagem no Cloud Storage e retorna a URL pública da imagem.\n",
        "\n",
        "    Args:\n",
        "        imagem (UploadedFile): Objeto de imagem carregada pelo usuário.\n",
        "        tipo_doacao (str): Tipo de doação.\n",
        "        quantidade (int): Quantidade de doação.\n",
        "        bloco_armazenamento (str): Bloco de armazenamento.\n",
        "\n",
        "    Returns:\n",
        "        str: URL pública da imagem salva no Cloud Storage.\n",
        "    \"\"\"\n",
        "    try:\n",
        "        # Convertendo a imagem para base64\n",
        "        buffer = BytesIO()\n",
        "        imagem.readinto(buffer)\n",
        "        encoded_image = base64.b64encode(buffer.getvalue()).decode()\n",
        "\n",
        "        # Salvando a imagem no Cloud Storage\n",
        "        storage_client = storage.Client()\n",
        "        bucket = storage_client.get_bucket(\"seu-bucket-do-google-cloud-storage\")\n",
        "        image_name = f\"{tipo_doacao}-{quantidade}-{bloco_armazenamento}.jpg\"\n",
        "        blob = bucket.blob(image_name)\n",
        "        blob.upload_from_string(encoded_image, options={\"api_key\": \"\"}) # preencher a API KEY\n",
        "\n",
        "        # Retornando a URL pública da imagem\n",
        "        return blob.public_url_for(signed_url_version='v2')\n",
        "\n",
        "    except Exception as e:\n",
        "        print(f\"Erro ao salvar imagem: {e}\")\n",
        "        return \"\"\n",
        "\n",
        "# Configurando a página do Streamlit\n",
        "st.title(\"Doações para Desalojados no Rio Grande do Sul\")\n",
        "st.markdown(\"Ajude-nos a auxiliar os desalojados pelas fortes chuvas no Rio Grande do Sul! Doe materiais de primeira necessidade e contribua para a reconstrução de vidas.\")\n",
        "\n",
        "# Criando um formulário para receber as informações da doação\n",
        "formulario = st.form(\"Doação\")\n",
        "tipo_doacao = formulario.selectbox(\"Tipo de Doação\", [\"Perecível\", \"Água\", \"Colchões\", \"Roupas\", \"Outros\"])\n",
        "quantidade = formulario.number_input(\"Quantidade\", min_value=1)\n",
        "bloco_armazenamento = formulario.selectbox(\"Bloco de Armazenamento\", [\"A\", \"B\", \"C\", \"D\", \"E\"])\n",
        "imagem = formulario.file_uploader(\"Imagem da Doação (opcional)\")\n",
        "submit_button = formulario.submit_button(\"Doar\")\n",
        "\n",
        "# Processando as informações da doação\n",
        "if submit_button:\n",
        "    try:\n",
        "        # Validando dados de entrada\n",
        "        if quantidade <= 0:\n",
        "            raise ValueError(\"Quantidade de doação deve ser maior que zero.\")\n",
        "\n",
        "        # Salvando a imagem no Cloud Storage (se houver)\n",
        "        imagem_url = \"\"\n",
        "        if imagem:\n",
        "            imagem_url = salvar_imagem_no_cloud_storage(imagem, tipo_doacao, quantidade, bloco_armazenamento)\n",
        "            if not imagem_url:\n",
        "                st.error(\"Erro ao salvar imagem. Tente novamente.\")\n",
        "                raise Exception(\"Erro ao salvar imagem\")  # Re-raise exception for further handling\n",
        "\n",
        "        # Atualizando a tabela de doações\n",
        "        doacoes_df = pd.read_csv(\"doacoes.csv\", index_col=0)\n",
        "        nova_doacao = {\"Tipo\": tipo_doacao, \"Quantidade\": quantidade, \"Bloco de Armazenamento\": bloco_armazenamento, \"Imagem URL\": imagem_url}\n",
        "        doacoes_df = doacoes_df.append(nova_doacao, ignore_index=True)\n",
        "        doacoes_df.to_csv(\"doacoes.csv\")\n",
        "        st.success(\"Doação registrada com sucesso!\")\n",
        "\n",
        "    except Exception as e:\n",
        "        st.error(f\"Ocorreu um erro durante o processamento da doação: {e}\")"
      ]
    }
  ]
}